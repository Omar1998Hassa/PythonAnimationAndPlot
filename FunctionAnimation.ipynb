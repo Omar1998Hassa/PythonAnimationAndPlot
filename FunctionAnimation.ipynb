{
 "cells": [
  {
   "cell_type": "code",
   "execution_count": 6,
   "metadata": {},
   "outputs": [],
   "source": [
    "import numpy as np\n",
    "import matplotlib.pyplot as plt\n",
    "%matplotlib qt\n",
    "\n",
    "def hamada_seq(n,c=0,draw=False):\n",
    "    L = [c]\n",
    "    for i in range(1,n):\n",
    "        if (L[-1]-i) > 0 and not ((L[-1]-i) in L):\n",
    "            L.append(L[-1]-i)\n",
    "            #np.append(list(L),[L[-1] - n],axis=1)\n",
    "        else:\n",
    "            L.append(L[-1]+i)\n",
    "    if draw == True:\n",
    "        fig,ax = plt.subplots()\n",
    "        ax.plot(np.arange(n),np.array(L))\n",
    "        plt.show()\n",
    "    #s = L.count(1)\n",
    "    if L.count(1) == 0 :\n",
    "        s= None\n",
    "    else:\n",
    "        s = L.index(1)\n",
    "\n",
    "    return L,s\n",
    "\n",
    "L,s=hamada_seq(100,c=10,draw=True)\n",
    "# dir(L)\n",
    "# print(L)\n",
    "# print(s)\n",
    "x= np.arange(len(L))\n",
    "fig1,ax1= plt.subplots()\n",
    "\n",
    "\n",
    "line, = ax1.plot(x,L)\n",
    "line2, = ax1.plot([],[], marker='.')\n",
    "\n",
    "dir(list)\n",
    "plt.setp(ax1,title=\"Omar Yasser\")\n",
    "for i in x:\n",
    "    plt.setp(line,xdata=x[:i], ydata=L[:i])\n",
    "    if i == s:\n",
    "        plt.setp(line2, xdata=x[s], ydata=L[s])\n",
    "    fig1.show()\n",
    "    plt.pause(0.1)\n"
   ]
  },
  {
   "cell_type": "code",
   "execution_count": null,
   "metadata": {},
   "outputs": [],
   "source": []
  }
 ],
 "metadata": {
  "kernelspec": {
   "display_name": "Python 3",
   "language": "python",
   "name": "python3"
  },
  "language_info": {
   "codemirror_mode": {
    "name": "ipython",
    "version": 3
   },
   "file_extension": ".py",
   "mimetype": "text/x-python",
   "name": "python",
   "nbconvert_exporter": "python",
   "pygments_lexer": "ipython3",
   "version": "3.8.5"
  }
 },
 "nbformat": 4,
 "nbformat_minor": 4
}
